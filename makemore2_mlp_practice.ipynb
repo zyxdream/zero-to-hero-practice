{
 "cells": [
  {
   "cell_type": "code",
   "execution_count": 1,
   "id": "aeef7355-d404-4adf-b57d-d17e502a6690",
   "metadata": {},
   "outputs": [],
   "source": [
    "import torch\n",
    "import torch.nn.functional as F\n",
    "import matplotlib.pyplot as plt # for making figures\n",
    "%matplotlib inline"
   ]
  },
  {
   "cell_type": "code",
   "execution_count": 14,
   "id": "0f1ef901-5426-4688-98d4-5bd1a07d54b6",
   "metadata": {},
   "outputs": [
    {
     "data": {
      "text/plain": [
       "['emma', 'olivia', 'ava', 'isabella', 'sophia', 'charlotte', 'mia', 'amelia']"
      ]
     },
     "execution_count": 14,
     "metadata": {},
     "output_type": "execute_result"
    }
   ],
   "source": [
    "# read in all the words\n",
    "words = open('names.txt', 'r').read().splitlines()\n",
    "words[:8]\n"
   ]
  },
  {
   "cell_type": "code",
   "execution_count": 13,
   "id": "7c8ec518-40b9-45d9-acbe-50fae0713027",
   "metadata": {},
   "outputs": [
    {
     "data": {
      "text/plain": [
       "32033"
      ]
     },
     "execution_count": 13,
     "metadata": {},
     "output_type": "execute_result"
    }
   ],
   "source": [
    "len(words)"
   ]
  },
  {
   "cell_type": "code",
   "execution_count": 11,
   "id": "f1d91d49-4659-4559-b343-71746c9c8b52",
   "metadata": {},
   "outputs": [
    {
     "name": "stdout",
     "output_type": "stream",
     "text": [
      "{'a': 1, 'b': 2, 'c': 3, 'd': 4, 'e': 5, 'f': 6, 'g': 7, 'h': 8, 'i': 9, 'j': 10, 'k': 11, 'l': 12, 'm': 13, 'n': 14, 'o': 15, 'p': 16, 'q': 17, 'r': 18, 's': 19, 't': 20, 'u': 21, 'v': 22, 'w': 23, 'x': 24, 'y': 25, 'z': 26, '.': 0}\n",
      "{1: 'a', 2: 'b', 3: 'c', 4: 'd', 5: 'e', 6: 'f', 7: 'g', 8: 'h', 9: 'i', 10: 'j', 11: 'k', 12: 'l', 13: 'm', 14: 'n', 15: 'o', 16: 'p', 17: 'q', 18: 'r', 19: 's', 20: 't', 21: 'u', 22: 'v', 23: 'w', 24: 'x', 25: 'y', 26: 'z', 0: '.'}\n"
     ]
    }
   ],
   "source": [
    "# build the vocabulary of characters and mappings to/from integers\n",
    "chars = sorted(list(set(''.join(words))))\n",
    "\n",
    "stoi = {char: i+1 for i, char in enumerate(chars)}\n",
    "stoi['.'] = 0\n",
    "print(stoi)\n",
    "itos = {i: char for char, i in stoi.items()}\n",
    "print(itos)\n"
   ]
  },
  {
   "cell_type": "code",
   "execution_count": 29,
   "id": "9950dca1-2bc4-4e7e-9af9-7c2979a5e706",
   "metadata": {},
   "outputs": [
    {
     "data": {
      "text/plain": [
       "(torch.Size([228146, 3]), torch.int64, torch.Size([228146]), torch.int64)"
      ]
     },
     "execution_count": 29,
     "metadata": {},
     "output_type": "execute_result"
    }
   ],
   "source": [
    "# build the dataset\n",
    "\n",
    "block_size = 3 # context length: how many characters do we take to predict the next one?\n",
    "X, Y = [], []\n",
    "for word in words:\n",
    "    context = ['.']*3 + [char for char in word] + ['.']\n",
    "    # print(context)\n",
    "    for i in range(3, len(context)):\n",
    "        # print(context[i-3:i], \"-->\", context[i])\n",
    "        xtoi = [stoi[char] for char in context[i-3:i]]\n",
    "        ytoi = stoi[context[i]]\n",
    "        X.append(xtoi)\n",
    "        Y.append(ytoi)\n",
    "\n",
    "X = torch.tensor(X)\n",
    "Y = torch.tensor(Y)\n",
    "X.shape, X.dtype, Y.shape, Y.dtype\n",
    "# (torch.Size([228146, 3]), torch.int64, torch.Size([228146]), torch.int64)"
   ]
  },
  {
   "cell_type": "code",
   "execution_count": 33,
   "id": "fa43c977-ca84-45a6-91ae-27102e1ba7eb",
   "metadata": {},
   "outputs": [
    {
     "name": "stdout",
     "output_type": "stream",
     "text": [
      "torch.Size([182437, 3]) torch.Size([182437])\n",
      "torch.Size([22781, 3]) torch.Size([22781])\n",
      "torch.Size([22928, 3]) torch.Size([22928])\n"
     ]
    }
   ],
   "source": [
    "# build the dataset\n",
    "block_size = 3 # context length: how many characters do we take to predict the next one?\n",
    "\n",
    "def build_dataset(words):  \n",
    "    X, Y = [], []\n",
    "    for word in words:\n",
    "        context = ['.']*3 + [char for char in word] + ['.']\n",
    "        # print(context)\n",
    "        for i in range(3, len(context)):\n",
    "            # print(context[i-3:i], \"-->\", context[i])\n",
    "            xtoi = [stoi[char] for char in context[i-3:i]]\n",
    "            ytoi = stoi[context[i]]\n",
    "            X.append(xtoi)\n",
    "            Y.append(ytoi)\n",
    "\n",
    "    X = torch.tensor(X)\n",
    "    Y = torch.tensor(Y)\n",
    "    print(X.shape, Y.shape)\n",
    "    return X, Y\n",
    "\n",
    "\n",
    "import random\n",
    "random.seed(42)\n",
    "random.shuffle(words) # train/val.test slip method: shuffle first, then slide by cutoff numbers\n",
    "n1 = int(0.8*len(words))\n",
    "n2 = int(0.9*len(words))\n",
    "\n",
    "Xtr, Ytr = build_dataset(words[:n1])\n",
    "Xdev, Ydev = build_dataset(words[n1:n2])\n",
    "Xte, Yte = build_dataset(words[n2:])\n",
    "\n",
    "# torch.Size([182441, 3]) torch.Size([182441])\n",
    "# torch.Size([22902, 3]) torch.Size([22902])\n",
    "# torch.Size([22803, 3]) torch.Size([22803])"
   ]
  },
  {
   "cell_type": "code",
   "execution_count": 34,
   "id": "7e60195b-32a2-49c7-ad1f-680fec627982",
   "metadata": {},
   "outputs": [
    {
     "name": "stdout",
     "output_type": "stream",
     "text": [
      "tensor([[ 0,  0,  0],\n",
      "        [ 0,  0, 11],\n",
      "        [ 0, 11, 18],\n",
      "        ...,\n",
      "        [ 0, 10,  5],\n",
      "        [10,  5,  1],\n",
      "        [ 5,  1, 14]])\n",
      "tensor([11, 18,  9,  ...,  1, 14,  0])\n"
     ]
    }
   ],
   "source": [
    "print(Xte) # each line is an example, next to embed each char into 2-dim embedding space\n",
    "print(Yte)"
   ]
  },
  {
   "cell_type": "code",
   "execution_count": 36,
   "id": "38841df0-f15e-4b06-a627-b0c0edd31179",
   "metadata": {},
   "outputs": [
    {
     "name": "stdout",
     "output_type": "stream",
     "text": [
      "tensor([[-1.6932,  0.1615],\n",
      "        [ 1.2923,  0.7740],\n",
      "        [ 0.8269,  0.9148],\n",
      "        [ 1.3213,  1.8640],\n",
      "        [ 0.2952,  1.1093],\n",
      "        [-0.1047,  0.3893],\n",
      "        [ 1.3242,  2.9137],\n",
      "        [-1.3035, -0.1078],\n",
      "        [ 1.5817, -0.4753],\n",
      "        [-1.2669, -1.0368],\n",
      "        [-0.9358,  1.6605],\n",
      "        [-0.7248,  1.0975],\n",
      "        [ 1.7111,  0.1533],\n",
      "        [ 0.4768, -1.8398],\n",
      "        [-0.3417,  0.2264],\n",
      "        [-0.2508, -0.6795],\n",
      "        [ 1.7060,  1.2543],\n",
      "        [ 0.5621, -1.1622],\n",
      "        [ 0.7437,  0.5686],\n",
      "        [ 0.4131, -0.1856],\n",
      "        [-0.0715,  1.6329],\n",
      "        [-0.6543, -1.4739],\n",
      "        [-0.0216, -0.3874],\n",
      "        [ 1.3335,  1.5009],\n",
      "        [-1.2614, -0.9850],\n",
      "        [-0.5595, -0.5653],\n",
      "        [ 0.5256,  1.1212]])\n"
     ]
    }
   ],
   "source": [
    "# look up table for each char is shape of  [27, 2]  Bengio et al. 2003 MLP language model paper \n",
    "C = torch.randn([27, 2])\n",
    "print(C)"
   ]
  },
  {
   "cell_type": "code",
   "execution_count": 37,
   "id": "8d505fec-5b16-48cd-a6ba-f1c3abe44fc8",
   "metadata": {},
   "outputs": [
    {
     "data": {
      "text/plain": [
       "tensor([-0.1047,  0.3893])"
      ]
     },
     "execution_count": 37,
     "metadata": {},
     "output_type": "execute_result"
    }
   ],
   "source": [
    "C[5]"
   ]
  },
  {
   "cell_type": "code",
   "execution_count": 42,
   "id": "ab728b36-87ff-46cf-880d-ff9afa3d2fff",
   "metadata": {},
   "outputs": [
    {
     "data": {
      "text/plain": [
       "tensor([-0.1047,  0.3893])"
      ]
     },
     "execution_count": 42,
     "metadata": {},
     "output_type": "execute_result"
    }
   ],
   "source": [
    "F.one_hot(torch.tensor(5), num_classes=27).float() @ C   #matrix multiplication"
   ]
  },
  {
   "cell_type": "code",
   "execution_count": 43,
   "id": "497779ab-16a7-4ad6-a2ae-6b2d5faa6e2a",
   "metadata": {},
   "outputs": [
    {
     "data": {
      "text/plain": [
       "tensor([[-0.1047,  0.3893],\n",
       "        [ 1.3242,  2.9137],\n",
       "        [-1.3035, -0.1078],\n",
       "        [-1.3035, -0.1078],\n",
       "        [-1.3035, -0.1078]])"
      ]
     },
     "execution_count": 43,
     "metadata": {},
     "output_type": "execute_result"
    }
   ],
   "source": [
    "C[torch.tensor([5,6,7,7,7])] # index C with a vector (contains multiple position)"
   ]
  },
  {
   "cell_type": "code",
   "execution_count": 49,
   "id": "4d942130-621e-4821-990e-6654a6467bca",
   "metadata": {},
   "outputs": [
    {
     "data": {
      "text/plain": [
       "tensor([[[-0.1047,  0.3893],\n",
       "         [ 1.3242,  2.9137],\n",
       "         [-1.3035, -0.1078]],\n",
       "\n",
       "        [[-1.3035, -0.1078],\n",
       "         [-1.3035, -0.1078],\n",
       "         [-1.3035, -0.1078]]])"
      ]
     },
     "execution_count": 49,
     "metadata": {},
     "output_type": "execute_result"
    }
   ],
   "source": [
    "C[torch.tensor([[5,6,7,],[7,7,7]])]  \n",
    "# index C with  tensor of shape of (2,3), return [2,3,2] where [2,3,] -> index tensor shape, [,,2] -> C 2-dim\n"
   ]
  },
  {
   "cell_type": "code",
   "execution_count": 50,
   "id": "01bc2cf1-9c01-4897-932b-8a774526b737",
   "metadata": {},
   "outputs": [
    {
     "data": {
      "text/plain": [
       "torch.Size([228146, 3, 2])"
      ]
     },
     "execution_count": 50,
     "metadata": {},
     "output_type": "execute_result"
    }
   ],
   "source": [
    "emb = C[X]\n",
    "emb.shape"
   ]
  },
  {
   "cell_type": "code",
   "execution_count": 53,
   "id": "a2272c0f-e132-4798-878c-8b366c6d975c",
   "metadata": {},
   "outputs": [
    {
     "data": {
      "text/plain": [
       "tensor([[-1.6932,  0.1615],\n",
       "        [-1.6932,  0.1615],\n",
       "        [-1.6932,  0.1615]])"
      ]
     },
     "execution_count": 53,
     "metadata": {},
     "output_type": "execute_result"
    }
   ],
   "source": [
    "emb[0]"
   ]
  },
  {
   "cell_type": "code",
   "execution_count": 51,
   "id": "b5d74f45-8bab-43df-a605-0ceeef2da9e2",
   "metadata": {},
   "outputs": [
    {
     "data": {
      "text/plain": [
       "tensor([[-1.6932,  0.1615, -1.6932,  0.1615, -1.6932,  0.1615],\n",
       "        [-1.6932,  0.1615, -1.6932,  0.1615, -0.1047,  0.3893],\n",
       "        [-1.6932,  0.1615, -0.1047,  0.3893,  0.4768, -1.8398],\n",
       "        ...,\n",
       "        [ 0.5256,  1.1212,  0.5256,  1.1212, -0.5595, -0.5653],\n",
       "        [ 0.5256,  1.1212, -0.5595, -0.5653,  0.5256,  1.1212],\n",
       "        [-0.5595, -0.5653,  0.5256,  1.1212, -1.2614, -0.9850]])"
      ]
     },
     "execution_count": 51,
     "metadata": {},
     "output_type": "execute_result"
    }
   ],
   "source": [
    "emb.view(-1, 6)"
   ]
  },
  {
   "cell_type": "code",
   "execution_count": 54,
   "id": "ab43a76e-41c0-48b9-bb84-9b7ae60d71c7",
   "metadata": {},
   "outputs": [],
   "source": [
    "W1 = torch.randn((6, 100)) #dim_in = 6, dim_out=100 100 neurons for each example in next layer\n",
    "b1 = torch.randn(100)"
   ]
  },
  {
   "cell_type": "code",
   "execution_count": 55,
   "id": "d5b15a67-cb96-4449-8f4e-8eb2328da04d",
   "metadata": {},
   "outputs": [],
   "source": [
    "h = torch.tanh(emb.view(-1, 6) @ W1 + b1)"
   ]
  },
  {
   "cell_type": "code",
   "execution_count": 56,
   "id": "5fcfc71a-ffa7-480c-967f-4a2f9888dd76",
   "metadata": {},
   "outputs": [
    {
     "data": {
      "text/plain": [
       "torch.Size([228146, 100])"
      ]
     },
     "execution_count": 56,
     "metadata": {},
     "output_type": "execute_result"
    }
   ],
   "source": [
    "h.shape"
   ]
  },
  {
   "cell_type": "code",
   "execution_count": 57,
   "id": "e44805d7-69fc-4a0c-aa98-86dd42a95a2e",
   "metadata": {},
   "outputs": [],
   "source": [
    "W2 = torch.randn((100, 27))\n",
    "b2 = torch.randn(27)"
   ]
  },
  {
   "cell_type": "code",
   "execution_count": 66,
   "id": "a75d6d1d-c278-431e-9817-80e596e2a2ad",
   "metadata": {},
   "outputs": [],
   "source": [
    "logits = h @ W2 + b2   # this is the \"z\" = logit(p) = ln(odds) = ln(p/(1-p))  ? not sure\n",
    "\n",
    "# logit is the log odds of a probability.\n",
    "# The odds are the ratio of the probability of one event happening over an other, odd = p/(1-p)"
   ]
  },
  {
   "cell_type": "code",
   "execution_count": 59,
   "id": "87562793-4369-430c-935c-80ae4af3a77d",
   "metadata": {},
   "outputs": [
    {
     "data": {
      "text/plain": [
       "torch.Size([228146, 27])"
      ]
     },
     "execution_count": 59,
     "metadata": {},
     "output_type": "execute_result"
    }
   ],
   "source": [
    "logits.shape"
   ]
  },
  {
   "cell_type": "code",
   "execution_count": 62,
   "id": "27d932f5-cdf5-49de-b93e-9dc225386aeb",
   "metadata": {},
   "outputs": [],
   "source": [
    "counts = logits.exp()"
   ]
  },
  {
   "cell_type": "code",
   "execution_count": 63,
   "id": "b668c95b-1eb9-4efe-aed6-b0ef2cfb1f53",
   "metadata": {},
   "outputs": [
    {
     "data": {
      "text/plain": [
       "torch.Size([228146, 27])"
      ]
     },
     "execution_count": 63,
     "metadata": {},
     "output_type": "execute_result"
    }
   ],
   "source": [
    "counts.shape"
   ]
  },
  {
   "cell_type": "code",
   "execution_count": 65,
   "id": "23ca4275-6e44-4413-b8cb-e440f739f702",
   "metadata": {},
   "outputs": [
    {
     "data": {
      "text/plain": [
       "torch.Size([228146, 1])"
      ]
     },
     "execution_count": 65,
     "metadata": {},
     "output_type": "execute_result"
    }
   ],
   "source": [
    "counts.sum(1, keepdims=True).shape"
   ]
  },
  {
   "cell_type": "code",
   "execution_count": 61,
   "id": "36ea269c-3e2a-4b98-a9f5-35391bbc124b",
   "metadata": {},
   "outputs": [],
   "source": [
    "prob = counts / counts.sum(1, keepdims=True)   #multiclass: (softmax)  e^z[i]/sum(e^z[i]) over 27 classes = class probabilities"
   ]
  },
  {
   "cell_type": "code",
   "execution_count": 69,
   "id": "eb70386e-c38a-481b-a40d-f2ec067467b8",
   "metadata": {},
   "outputs": [
    {
     "data": {
      "text/plain": [
       "tensor(17.2013)"
      ]
     },
     "execution_count": 69,
     "metadata": {},
     "output_type": "execute_result"
    }
   ],
   "source": [
    "loss = -prob[torch.arange(228146), Y].log().mean()  # index prob by tensor [[0, 1,...228145], y]  that is for every example, pick out the prob of correct lable\n",
    "loss"
   ]
  },
  {
   "cell_type": "code",
   "execution_count": 73,
   "id": "34ef771d-954f-453c-9c95-7cb7467b812f",
   "metadata": {},
   "outputs": [],
   "source": [
    "# ------------ now made respectable :) ---------------"
   ]
  },
  {
   "cell_type": "code",
   "execution_count": 148,
   "id": "5d429730-f082-4d83-be7f-9b09078cb365",
   "metadata": {},
   "outputs": [
    {
     "name": "stdout",
     "output_type": "stream",
     "text": [
      "3481\n"
     ]
    }
   ],
   "source": [
    "g = torch.Generator().manual_seed(2147483647) # for reproducibility\n",
    "C = torch.randn((27, 2), generator=g)\n",
    "W1 = torch.randn((6, 100), generator=g)\n",
    "b1 = torch.randn(100, generator=g)\n",
    "W2 = torch.randn((100, 27), generator=g)\n",
    "b2 = torch.randn(27, generator=g)\n",
    "parameters = [C, W1, b1, W2, b2]\n",
    "\n",
    "print(sum(p.nelement() for p in parameters)) # number of parameters in total\n",
    "\n"
   ]
  },
  {
   "cell_type": "code",
   "execution_count": 149,
   "id": "13010746-8cb6-4b47-b2b6-ca6390e64cb9",
   "metadata": {},
   "outputs": [],
   "source": [
    "for p in parameters:\n",
    "  p.requires_grad = True"
   ]
  },
  {
   "cell_type": "code",
   "execution_count": 150,
   "id": "7c699f31-6197-433d-a8c1-10b29890bf40",
   "metadata": {},
   "outputs": [
    {
     "data": {
      "text/plain": [
       "tensor([ 34444,  60136,  95175, 167747, 159190, 181549,  67844,  98611,  67952,\n",
       "         64415, 159195, 120064,  32068,  34180,  92912,  34299,   1635,  98065,\n",
       "        168796, 121837, 159415, 182142,  80257, 138075, 149081, 144085,  47728,\n",
       "         82037, 109917,  31103,  77321,  54377])"
      ]
     },
     "execution_count": 150,
     "metadata": {},
     "output_type": "execute_result"
    }
   ],
   "source": [
    "# Optimization:  mini batch random select a few, say 32 out of Xtr\n",
    "torch.randint(0, Xtr.shape[0], (32,))"
   ]
  },
  {
   "cell_type": "code",
   "execution_count": 151,
   "id": "ae329994-6056-4066-b6d7-18b6877c7be7",
   "metadata": {},
   "outputs": [],
   "source": [
    "# torch.linspace(0.001, 1, 1000) # linear  we want curved line between 0 and 1\n",
    "lre = torch.linspace(-3, 0, 1000)\n",
    "lrs = 10**lre"
   ]
  },
  {
   "cell_type": "code",
   "execution_count": 162,
   "id": "6ad78ef7-720f-478c-bc2c-2d7975655675",
   "metadata": {},
   "outputs": [
    {
     "name": "stdout",
     "output_type": "stream",
     "text": [
      "2.8978312015533447\n"
     ]
    }
   ],
   "source": [
    "# Xtr.shape, Ytr.shape\n",
    "BATCH_SIZE = 32\n",
    "lri = []\n",
    "lossi = []\n",
    "stepi = []\n",
    "\n",
    "for i in range(10000):\n",
    "    # forward pass\n",
    "    ix = torch.randint(0, Xtr.shape[0], (BATCH_SIZE,))  # Xtr[ix], Ytr[ix]\n",
    "    \n",
    "    emb = C[Xtr[ix]]\n",
    "    # print(\"emb shape: \", emb.shape)\n",
    "    # input x: emb.view(-1,6)  -> torch.Size([182437, 6])\n",
    "    h = F.tanh(emb.view(-1, 6) @ W1 + b1)\n",
    "    logits = h @ W2 + b2\n",
    "    # counts = logits.exp()\n",
    "    # prob = counts / counts.sum(1, keepdims=True)\n",
    "    # loss = -prob[torch.arange(182437), Ytr].log().mean() #tensor(19.4981)\n",
    "      \n",
    "    # when logits has large values, exp() will be INF, in torch: logits = logits - max(logits)\n",
    "    loss = F.cross_entropy(logits, Ytr[ix])\n",
    "    # print(loss.item())           \n",
    "    \n",
    "    # backward pass\n",
    "    for p in parameters:\n",
    "        p.grad = None\n",
    "    loss.backward()\n",
    "\n",
    "    # lr = lrs[i]\n",
    "    lr = 0.1 if i < 100000 else 0.01\n",
    "    # update parameters\n",
    "    for p in parameters:\n",
    "        p.data += -lr * p.grad\n",
    "\n",
    "    # track stats\n",
    "    # lri.append(lre[i])\n",
    "    # lossi.append(loss.item())\n",
    "    stepi.append(i)\n",
    "    lossi.append(loss.item())\n",
    "    \n",
    "\n",
    "print(loss.item())"
   ]
  },
  {
   "cell_type": "code",
   "execution_count": 163,
   "id": "f1bf4b33-b41a-480d-aa76-15b1410cbc98",
   "metadata": {},
   "outputs": [
    {
     "data": {
      "text/plain": [
       "[<matplotlib.lines.Line2D at 0x17ea210c0>]"
      ]
     },
     "execution_count": 163,
     "metadata": {},
     "output_type": "execute_result"
    },
    {
     "data": {
      "image/png": "[encoded data removed]",
      "text/plain": [
       "<Figure size 640x480 with 1 Axes>"
      ]
     },
     "metadata": {},
     "output_type": "display_data"
    }
   ],
   "source": [
    "plt.plot(stepi, lossi)"
   ]
  },
  {
   "cell_type": "code",
   "execution_count": 164,
   "id": "11406b0a-7417-471a-8a6e-402a49545574",
   "metadata": {},
   "outputs": [
    {
     "data": {
      "text/plain": [
       "tensor(2.3550, grad_fn=<NllLossBackward0>)"
      ]
     },
     "execution_count": 164,
     "metadata": {},
     "output_type": "execute_result"
    }
   ],
   "source": [
    "emb = C[Xtr] # (32, 3, 2)\n",
    "h = torch.tanh(emb.view(-1, 6) @ W1 + b1) # (32, 100)\n",
    "logits = h @ W2 + b2 # (32, 27)\n",
    "loss = F.cross_entropy(logits, Ytr)\n",
    "loss"
   ]
  },
  {
   "cell_type": "code",
   "execution_count": 165,
   "id": "79dd2748-9a5b-4051-baeb-0d5ca370443e",
   "metadata": {},
   "outputs": [
    {
     "data": {
      "text/plain": [
       "tensor(2.3754, grad_fn=<NllLossBackward0>)"
      ]
     },
     "execution_count": 165,
     "metadata": {},
     "output_type": "execute_result"
    }
   ],
   "source": [
    "emb = C[Xdev] # (32, 3, 2)\n",
    "h = torch.tanh(emb.view(-1, 6) @ W1 + b1) # (32, 100)\n",
    "logits = h @ W2 + b2 # (32, 27)\n",
    "loss = F.cross_entropy(logits, Ydev)\n",
    "loss"
   ]
  },
  {
   "cell_type": "code",
   "execution_count": 166,
   "id": "8d04d499-d434-48f2-9442-7132bb1326ea",
   "metadata": {},
   "outputs": [],
   "source": [
    "# when dev loss is nearly equal training loss, -> underfitting -> make model more powerful -> change hidden [6,100] to [6, 300] \n",
    "# and this can be confirmed by the plot"
   ]
  },
  {
   "cell_type": "code",
   "execution_count": 168,
   "id": "d6409f0b-f780-4635-becb-3d3f310343e3",
   "metadata": {},
   "outputs": [
    {
     "data": {
      "text/plain": [
       "(torch.Size([182437, 3]),\n",
       " torch.Size([182437]),\n",
       " torch.Size([22781, 3]),\n",
       " torch.Size([22781]))"
      ]
     },
     "execution_count": 168,
     "metadata": {},
     "output_type": "execute_result"
    }
   ],
   "source": [
    "# block_size = 3\n",
    "Xtr.shape, Ytr.shape, Xdev.shape, Ydev.shape"
   ]
  },
  {
   "cell_type": "code",
   "execution_count": 174,
   "id": "2ba9568b-6f84-4253-a485-5d43e8a4b4fc",
   "metadata": {},
   "outputs": [
    {
     "name": "stdout",
     "output_type": "stream",
     "text": [
      "# parameters:  10281\n"
     ]
    }
   ],
   "source": [
    "g = torch.Generator().manual_seed(2147483647) # for reproducibility\n",
    "C = torch.randn((27, 2), generator = g)  # random normal C look up table, embed each char in a 2-dim vector\n",
    "W1 = torch.randn((2*3, 300), generator = g)\n",
    "b1 = torch.randn(300, generator = g)\n",
    "W2 = torch.randn((300, 27), generator = g)\n",
    "b2 = torch.randn(27, generator = g)\n",
    "\n",
    "parameters = [C, W1, b1, W2, b2]\n",
    "\n",
    "print(\"# parameters: \", sum(torch.numel(p) for p in parameters))"
   ]
  },
  {
   "cell_type": "code",
   "execution_count": 183,
   "id": "d1f6f9c1-897d-4af7-958a-eecf1f997f67",
   "metadata": {},
   "outputs": [
    {
     "name": "stdout",
     "output_type": "stream",
     "text": [
      "torch.Size([32, 27])\n"
     ]
    }
   ],
   "source": [
    "# NOW think of forward pass\n",
    "# generate index for create batch\n",
    "ix = torch.randint(0, Xtr.shape[0], (32,))  # -> Xtr[ix],  Ytr[ix]  torch.size([32, 3]), torch.size([32,])\n",
    "# print(C[Xtr[ix]])  # index C by each element in Xtr[ix],  keep shape of Xtr[ix]\n",
    "embed = C[Xtr[ix]]  # torch.Size([32, 3, 2])\n",
    "a = embed.view(-1, 6) @ W1 + b1\n",
    "h = torch.tanh(a)\n",
    "logits = h @ W2 + b2\n",
    "print(logits.shape)\n",
    "loss = F.cross_entropy(logits, Ytr[ix])  \n",
    "# input logtis vs target: input logits of (minibatch,C) for C classes, (minibatch,C,d1,d2,...,dK) with K≥1 for the K-dimensional cas\n",
    "# log(Softmax(x)) function to an n-dimensional input Tensor, followed by NLLLoss"
   ]
  },
  {
   "cell_type": "markdown",
   "id": "5a6f54b8-96c4-406d-af4f-0c5cd9143923",
   "metadata": {},
   "source": [
    "# cross_entropy = log(sofmax(input_logits)) + lln (take negative and average over batch)\n",
    "input = torch.randn(3, 5, requires_grad=True)\n",
    "target = torch.tensor([1, 0, 4])\n",
    "print(input)\n",
    "logsm = F.log_softmax(input, dim=1)\n",
    "print(logsm)  # log of (0~1) is between (-inf, 0)\n",
    "output = F.nll_loss(logsm, target) \n",
    "# The input given nll_loss forward call is expected to contain log-probabilities of each class, which is exactly the result of log-softmax,\n",
    "# return  -logsm[of the target class], for batch os size N: sum all examples and take average \n",
    "print(output)  \n",
    "\n",
    "tensor([[ 0.9655,  1.3242, -1.6329, -0.7152,  0.4882],\n",
    "        [ 0.5920, -1.2657,  1.1230,  0.3179,  0.1609],\n",
    "        [-0.8043,  0.3087,  1.7718, -0.7476, -1.1029]], requires_grad=True)\n",
    "tensor([[-1.1977, -0.8390, -3.7961, -2.8784, -1.6750],\n",
    "        [-1.4508, -3.3086, -0.9199, -1.7249, -1.8819],\n",
    "        [-2.9439, -1.8309, -0.3678, -2.8871, -3.2425]],\n",
    "       grad_fn=<LogSoftmaxBackward0>)\n",
    "tensor(1.8441, grad_fn=<NllLossBackward0>)\n",
    "# verify 1.8441 = (-(-0.8390) + -(-1.4508) + -(-3.2425))/3"
   ]
  },
  {
   "cell_type": "code",
   "execution_count": 192,
   "id": "1ab91b82-ba1d-4a77-9896-52d2e317878f",
   "metadata": {},
   "outputs": [
    {
     "name": "stdout",
     "output_type": "stream",
     "text": [
      "tensor(2.2438, grad_fn=<NllLossBackward0>)\n",
      "tensor(2.4699, grad_fn=<NllLossBackward0>)\n",
      "tensor(2.6357, grad_fn=<NllLossBackward0>)\n",
      "tensor(2.1854, grad_fn=<NllLossBackward0>)\n",
      "tensor(2.5354, grad_fn=<NllLossBackward0>)\n",
      "tensor(2.7378, grad_fn=<NllLossBackward0>)\n",
      "tensor(2.1745, grad_fn=<NllLossBackward0>)\n",
      "tensor(2.7338, grad_fn=<NllLossBackward0>)\n",
      "tensor(2.7030, grad_fn=<NllLossBackward0>)\n",
      "tensor(2.6460, grad_fn=<NllLossBackward0>)\n",
      "tensor(2.3614, grad_fn=<NllLossBackward0>)\n",
      "tensor(2.6008, grad_fn=<NllLossBackward0>)\n",
      "tensor(2.6521, grad_fn=<NllLossBackward0>)\n",
      "tensor(2.4391, grad_fn=<NllLossBackward0>)\n",
      "tensor(2.6023, grad_fn=<NllLossBackward0>)\n",
      "tensor(2.5739, grad_fn=<NllLossBackward0>)\n",
      "tensor(2.6799, grad_fn=<NllLossBackward0>)\n",
      "tensor(3.0091, grad_fn=<NllLossBackward0>)\n",
      "tensor(2.5080, grad_fn=<NllLossBackward0>)\n",
      "tensor(2.6388, grad_fn=<NllLossBackward0>)\n",
      "tensor(2.3560, grad_fn=<NllLossBackward0>)\n",
      "tensor(2.6452, grad_fn=<NllLossBackward0>)\n",
      "tensor(2.5159, grad_fn=<NllLossBackward0>)\n",
      "tensor(2.7071, grad_fn=<NllLossBackward0>)\n",
      "tensor(2.1323, grad_fn=<NllLossBackward0>)\n",
      "tensor(2.4940, grad_fn=<NllLossBackward0>)\n",
      "tensor(1.8825, grad_fn=<NllLossBackward0>)\n",
      "tensor(2.8647, grad_fn=<NllLossBackward0>)\n",
      "tensor(2.2302, grad_fn=<NllLossBackward0>)\n",
      "tensor(2.3586, grad_fn=<NllLossBackward0>)\n",
      "tensor(2.1903, grad_fn=<NllLossBackward0>)\n",
      "tensor(2.5597, grad_fn=<NllLossBackward0>)\n",
      "tensor(2.4037, grad_fn=<NllLossBackward0>)\n",
      "tensor(2.6762, grad_fn=<NllLossBackward0>)\n",
      "tensor(2.1486, grad_fn=<NllLossBackward0>)\n",
      "tensor(2.6003, grad_fn=<NllLossBackward0>)\n",
      "tensor(2.4935, grad_fn=<NllLossBackward0>)\n",
      "tensor(2.8815, grad_fn=<NllLossBackward0>)\n",
      "tensor(2.5828, grad_fn=<NllLossBackward0>)\n",
      "tensor(2.3129, grad_fn=<NllLossBackward0>)\n",
      "tensor(2.2623, grad_fn=<NllLossBackward0>)\n",
      "tensor(2.3839, grad_fn=<NllLossBackward0>)\n",
      "tensor(2.2180, grad_fn=<NllLossBackward0>)\n",
      "tensor(2.3473, grad_fn=<NllLossBackward0>)\n",
      "tensor(2.6975, grad_fn=<NllLossBackward0>)\n",
      "tensor(2.6958, grad_fn=<NllLossBackward0>)\n",
      "tensor(2.4200, grad_fn=<NllLossBackward0>)\n",
      "tensor(2.2122, grad_fn=<NllLossBackward0>)\n",
      "tensor(2.5389, grad_fn=<NllLossBackward0>)\n",
      "tensor(2.4896, grad_fn=<NllLossBackward0>)\n",
      "tensor(2.5063, grad_fn=<NllLossBackward0>)\n",
      "tensor(2.1366, grad_fn=<NllLossBackward0>)\n",
      "tensor(2.1234, grad_fn=<NllLossBackward0>)\n",
      "tensor(2.4685, grad_fn=<NllLossBackward0>)\n",
      "tensor(2.2767, grad_fn=<NllLossBackward0>)\n",
      "tensor(2.2824, grad_fn=<NllLossBackward0>)\n",
      "tensor(2.5073, grad_fn=<NllLossBackward0>)\n",
      "tensor(2.4226, grad_fn=<NllLossBackward0>)\n",
      "tensor(2.3166, grad_fn=<NllLossBackward0>)\n",
      "tensor(2.7086, grad_fn=<NllLossBackward0>)\n",
      "tensor(2.1653, grad_fn=<NllLossBackward0>)\n",
      "tensor(2.3769, grad_fn=<NllLossBackward0>)\n",
      "tensor(2.0515, grad_fn=<NllLossBackward0>)\n",
      "tensor(2.3415, grad_fn=<NllLossBackward0>)\n",
      "tensor(1.8233, grad_fn=<NllLossBackward0>)\n",
      "tensor(2.3988, grad_fn=<NllLossBackward0>)\n",
      "tensor(2.6634, grad_fn=<NllLossBackward0>)\n",
      "tensor(2.5310, grad_fn=<NllLossBackward0>)\n",
      "tensor(2.2594, grad_fn=<NllLossBackward0>)\n",
      "tensor(1.9765, grad_fn=<NllLossBackward0>)\n",
      "tensor(2.5875, grad_fn=<NllLossBackward0>)\n",
      "tensor(2.7384, grad_fn=<NllLossBackward0>)\n",
      "tensor(2.2721, grad_fn=<NllLossBackward0>)\n",
      "tensor(2.0182, grad_fn=<NllLossBackward0>)\n",
      "tensor(2.4034, grad_fn=<NllLossBackward0>)\n",
      "tensor(2.6657, grad_fn=<NllLossBackward0>)\n",
      "tensor(2.4478, grad_fn=<NllLossBackward0>)\n",
      "tensor(2.3142, grad_fn=<NllLossBackward0>)\n",
      "tensor(2.1817, grad_fn=<NllLossBackward0>)\n",
      "tensor(1.9678, grad_fn=<NllLossBackward0>)\n",
      "tensor(2.5079, grad_fn=<NllLossBackward0>)\n",
      "tensor(2.3303, grad_fn=<NllLossBackward0>)\n",
      "tensor(2.6124, grad_fn=<NllLossBackward0>)\n",
      "tensor(2.1311, grad_fn=<NllLossBackward0>)\n",
      "tensor(2.4815, grad_fn=<NllLossBackward0>)\n",
      "tensor(2.2743, grad_fn=<NllLossBackward0>)\n",
      "tensor(2.1885, grad_fn=<NllLossBackward0>)\n",
      "tensor(2.2924, grad_fn=<NllLossBackward0>)\n",
      "tensor(2.8003, grad_fn=<NllLossBackward0>)\n",
      "tensor(2.1771, grad_fn=<NllLossBackward0>)\n",
      "tensor(2.6442, grad_fn=<NllLossBackward0>)\n",
      "tensor(2.4243, grad_fn=<NllLossBackward0>)\n",
      "tensor(2.2573, grad_fn=<NllLossBackward0>)\n",
      "tensor(2.2335, grad_fn=<NllLossBackward0>)\n",
      "tensor(2.3094, grad_fn=<NllLossBackward0>)\n",
      "tensor(2.7042, grad_fn=<NllLossBackward0>)\n",
      "tensor(2.5805, grad_fn=<NllLossBackward0>)\n",
      "tensor(2.1600, grad_fn=<NllLossBackward0>)\n",
      "tensor(2.1588, grad_fn=<NllLossBackward0>)\n",
      "tensor(2.4760, grad_fn=<NllLossBackward0>)\n",
      "tensor(2.6966, grad_fn=<NllLossBackward0>)\n",
      "tensor(2.1826, grad_fn=<NllLossBackward0>)\n",
      "tensor(2.3857, grad_fn=<NllLossBackward0>)\n",
      "tensor(2.2166, grad_fn=<NllLossBackward0>)\n",
      "tensor(2.0415, grad_fn=<NllLossBackward0>)\n",
      "tensor(2.4411, grad_fn=<NllLossBackward0>)\n",
      "tensor(2.5696, grad_fn=<NllLossBackward0>)\n",
      "tensor(1.9562, grad_fn=<NllLossBackward0>)\n",
      "tensor(2.4730, grad_fn=<NllLossBackward0>)\n",
      "tensor(2.3619, grad_fn=<NllLossBackward0>)\n",
      "tensor(2.1763, grad_fn=<NllLossBackward0>)\n",
      "tensor(2.1992, grad_fn=<NllLossBackward0>)\n",
      "tensor(1.9017, grad_fn=<NllLossBackward0>)\n",
      "tensor(2.1483, grad_fn=<NllLossBackward0>)\n",
      "tensor(2.1834, grad_fn=<NllLossBackward0>)\n",
      "tensor(2.0293, grad_fn=<NllLossBackward0>)\n",
      "tensor(2.2848, grad_fn=<NllLossBackward0>)\n",
      "tensor(2.1251, grad_fn=<NllLossBackward0>)\n",
      "tensor(2.1358, grad_fn=<NllLossBackward0>)\n",
      "tensor(2.1439, grad_fn=<NllLossBackward0>)\n",
      "tensor(2.1463, grad_fn=<NllLossBackward0>)\n",
      "tensor(1.8296, grad_fn=<NllLossBackward0>)\n",
      "tensor(2.3323, grad_fn=<NllLossBackward0>)\n",
      "tensor(2.3628, grad_fn=<NllLossBackward0>)\n",
      "tensor(2.1303, grad_fn=<NllLossBackward0>)\n",
      "tensor(2.3738, grad_fn=<NllLossBackward0>)\n",
      "tensor(1.7287, grad_fn=<NllLossBackward0>)\n",
      "tensor(1.9699, grad_fn=<NllLossBackward0>)\n",
      "tensor(2.3409, grad_fn=<NllLossBackward0>)\n",
      "tensor(2.6765, grad_fn=<NllLossBackward0>)\n",
      "tensor(2.3138, grad_fn=<NllLossBackward0>)\n",
      "tensor(2.1093, grad_fn=<NllLossBackward0>)\n",
      "tensor(2.2321, grad_fn=<NllLossBackward0>)\n",
      "tensor(2.2430, grad_fn=<NllLossBackward0>)\n",
      "tensor(2.4220, grad_fn=<NllLossBackward0>)\n",
      "tensor(1.8013, grad_fn=<NllLossBackward0>)\n",
      "tensor(2.6737, grad_fn=<NllLossBackward0>)\n",
      "tensor(2.6139, grad_fn=<NllLossBackward0>)\n",
      "tensor(2.0970, grad_fn=<NllLossBackward0>)\n",
      "tensor(2.2680, grad_fn=<NllLossBackward0>)\n",
      "tensor(2.4140, grad_fn=<NllLossBackward0>)\n",
      "tensor(1.9440, grad_fn=<NllLossBackward0>)\n",
      "tensor(2.2824, grad_fn=<NllLossBackward0>)\n",
      "tensor(2.1943, grad_fn=<NllLossBackward0>)\n",
      "tensor(2.1566, grad_fn=<NllLossBackward0>)\n",
      "tensor(2.1315, grad_fn=<NllLossBackward0>)\n",
      "tensor(2.4456, grad_fn=<NllLossBackward0>)\n",
      "tensor(1.9606, grad_fn=<NllLossBackward0>)\n",
      "tensor(2.1854, grad_fn=<NllLossBackward0>)\n",
      "tensor(2.2917, grad_fn=<NllLossBackward0>)\n",
      "tensor(2.0215, grad_fn=<NllLossBackward0>)\n",
      "tensor(2.1868, grad_fn=<NllLossBackward0>)\n",
      "tensor(2.0998, grad_fn=<NllLossBackward0>)\n",
      "tensor(1.8784, grad_fn=<NllLossBackward0>)\n",
      "tensor(2.1761, grad_fn=<NllLossBackward0>)\n",
      "tensor(2.1245, grad_fn=<NllLossBackward0>)\n",
      "tensor(2.1797, grad_fn=<NllLossBackward0>)\n",
      "tensor(2.0361, grad_fn=<NllLossBackward0>)\n",
      "tensor(2.6500, grad_fn=<NllLossBackward0>)\n",
      "tensor(2.0303, grad_fn=<NllLossBackward0>)\n",
      "tensor(2.0940, grad_fn=<NllLossBackward0>)\n",
      "tensor(2.1636, grad_fn=<NllLossBackward0>)\n",
      "tensor(2.3973, grad_fn=<NllLossBackward0>)\n",
      "tensor(2.3327, grad_fn=<NllLossBackward0>)\n",
      "tensor(2.0217, grad_fn=<NllLossBackward0>)\n",
      "tensor(2.0298, grad_fn=<NllLossBackward0>)\n",
      "tensor(2.5619, grad_fn=<NllLossBackward0>)\n",
      "tensor(2.4881, grad_fn=<NllLossBackward0>)\n",
      "tensor(2.4862, grad_fn=<NllLossBackward0>)\n",
      "tensor(2.4439, grad_fn=<NllLossBackward0>)\n",
      "tensor(1.9328, grad_fn=<NllLossBackward0>)\n",
      "tensor(1.8760, grad_fn=<NllLossBackward0>)\n",
      "tensor(2.6014, grad_fn=<NllLossBackward0>)\n",
      "tensor(2.0356, grad_fn=<NllLossBackward0>)\n",
      "tensor(2.1937, grad_fn=<NllLossBackward0>)\n",
      "tensor(2.3554, grad_fn=<NllLossBackward0>)\n",
      "tensor(2.1793, grad_fn=<NllLossBackward0>)\n",
      "tensor(1.9881, grad_fn=<NllLossBackward0>)\n",
      "tensor(2.1788, grad_fn=<NllLossBackward0>)\n",
      "tensor(2.4217, grad_fn=<NllLossBackward0>)\n",
      "tensor(2.3253, grad_fn=<NllLossBackward0>)\n",
      "tensor(2.0035, grad_fn=<NllLossBackward0>)\n",
      "tensor(1.9264, grad_fn=<NllLossBackward0>)\n",
      "tensor(1.9502, grad_fn=<NllLossBackward0>)\n",
      "tensor(2.2518, grad_fn=<NllLossBackward0>)\n",
      "tensor(1.7659, grad_fn=<NllLossBackward0>)\n",
      "tensor(2.2785, grad_fn=<NllLossBackward0>)\n",
      "tensor(2.1118, grad_fn=<NllLossBackward0>)\n",
      "tensor(2.2326, grad_fn=<NllLossBackward0>)\n",
      "tensor(2.1743, grad_fn=<NllLossBackward0>)\n",
      "tensor(2.4623, grad_fn=<NllLossBackward0>)\n",
      "tensor(2.2466, grad_fn=<NllLossBackward0>)\n",
      "tensor(1.8822, grad_fn=<NllLossBackward0>)\n",
      "tensor(2.1172, grad_fn=<NllLossBackward0>)\n",
      "tensor(2.1172, grad_fn=<NllLossBackward0>)\n",
      "tensor(2.6318, grad_fn=<NllLossBackward0>)\n",
      "tensor(2.3492, grad_fn=<NllLossBackward0>)\n",
      "tensor(2.2779, grad_fn=<NllLossBackward0>)\n",
      "tensor(2.5301, grad_fn=<NllLossBackward0>)\n",
      "tensor(1.8957, grad_fn=<NllLossBackward0>)\n",
      "tensor(2.0858, grad_fn=<NllLossBackward0>)\n"
     ]
    }
   ],
   "source": [
    "# Xtr.shape, Ytr.shape\n",
    "BATCH_SIZE = 32\n",
    "\n",
    "lossi = []\n",
    "stepi = []\n",
    "\n",
    "\n",
    "for p in parameters:\n",
    "  p.requires_grad = True\n",
    "\n",
    "for i in range(200000):\n",
    "    ix = torch.randint(0, Xtr.shape[0], (BATCH_SIZE,))  # -> Xtr[ix],  Ytr[ix]  torch.size([32, 3]), torch.size([32,])\n",
    "\n",
    "    embed = C[Xtr[ix]]  # torch.Size([32, 3, 2])\n",
    "    a = embed.view(-1, 6) @ W1 + b1\n",
    "    h = torch.tanh(a)\n",
    "    logits = h @ W2 + b2\n",
    "    loss = F.cross_entropy(logits, Ytr[ix])\n",
    "\n",
    "    # re-set grad to None or zero\n",
    "    for p in parameters:\n",
    "        p.grad = None\n",
    "    loss.backward()\n",
    "\n",
    "    if i % 1000 == 0: print(loss)\n",
    "\n",
    "    # update parameters\n",
    "    lr = 0.1 if i < 100000 else 0.01\n",
    "    for p in parameters:  # CLASStorch.nn.parameter.Parameter(data=None, requires_grad=True)\n",
    "        p.data += -lr * p.grad\n",
    "\n",
    "    # track stats\n",
    "  \n",
    "    stepi.append(i)\n",
    "    lossi.append(loss.log10().item())\n",
    "\n",
    "    \n",
    "print(loss)\n",
    "# tensor(2.0858, grad_fn=<NllLossBackward0>)"
   ]
  },
  {
   "cell_type": "code",
   "execution_count": 193,
   "id": "e1bb9032-5290-4d80-a225-502fe642167b",
   "metadata": {},
   "outputs": [
    {
     "data": {
      "text/plain": [
       "[<matplotlib.lines.Line2D at 0x17ff144f0>]"
      ]
     },
     "execution_count": 193,
     "metadata": {},
     "output_type": "execute_result"
    },
    {
     "data": {
      "image/png": "[encoded data removed]",
      "text/plain": [
       "<Figure size 640x480 with 1 Axes>"
      ]
     },
     "metadata": {},
     "output_type": "display_data"
    }
   ],
   "source": [
    "plt.plot(stepi, lossi)"
   ]
  },
  {
   "cell_type": "code",
   "execution_count": 198,
   "id": "54a7cae6-068e-49d9-b26d-6d34bc51856e",
   "metadata": {},
   "outputs": [
    {
     "data": {
      "text/plain": [
       "[<matplotlib.lines.Line2D at 0x28ef66e00>]"
      ]
     },
     "execution_count": 198,
     "metadata": {},
     "output_type": "execute_result"
    },
    {
     "data": {
      "image/png": "[encoded data removed]",
      "text/plain": [
       "<Figure size 640x480 with 1 Axes>"
      ]
     },
     "metadata": {},
     "output_type": "display_data"
    }
   ],
   "source": [
    "plt.plot(torch.tensor(lossi).view(-1, 1000).mean(1))"
   ]
  },
  {
   "cell_type": "code",
   "execution_count": 199,
   "id": "fefcc9f0-0ea5-4b44-87e7-7b8e917997b7",
   "metadata": {},
   "outputs": [
    {
     "data": {
      "text/plain": [
       "tensor(2.2430, grad_fn=<NllLossBackward0>)"
      ]
     },
     "execution_count": 199,
     "metadata": {},
     "output_type": "execute_result"
    }
   ],
   "source": [
    "# dev loss\n",
    "emb = C[Xdev] # (32, 3, 2)\n",
    "h = torch.tanh(emb.view(-1, 6) @ W1 + b1) # (32, 100)\n",
    "logits = h @ W2 + b2 # (32, 27)\n",
    "loss = F.cross_entropy(logits, Ydev)\n",
    "loss"
   ]
  },
  {
   "cell_type": "code",
   "execution_count": 200,
   "id": "c2dcd9da-e25d-49eb-88ad-4aadb9a49f72",
   "metadata": {},
   "outputs": [
    {
     "data": {
      "image/png": "[encoded data removed]",
      "text/plain": [
       "<Figure size 800x800 with 1 Axes>"
      ]
     },
     "metadata": {},
     "output_type": "display_data"
    }
   ],
   "source": [
    "# visualize dimensions 0 and 1 of the embedding matrix C for all characters\n",
    "plt.figure(figsize=(8,8))\n",
    "plt.scatter(C[:,0].data, C[:,1].data, s=200)\n",
    "for i in range(C.shape[0]):\n",
    "    plt.text(C[i,0].item(), C[i,1].item(), itos[i], ha=\"center\", va=\"center\", color='white')\n",
    "plt.grid('minor')"
   ]
  },
  {
   "cell_type": "code",
   "execution_count": 206,
   "id": "3e36959d-4e83-4214-bcc1-57ca8f1ccdc3",
   "metadata": {},
   "outputs": [
    {
     "name": "stdout",
     "output_type": "stream",
     "text": [
      "[0, 0, 0]\n",
      "tensor([[[ 0.4516, -0.1866],\n",
      "         [ 0.4516, -0.1866],\n",
      "         [ 0.4516, -0.1866]]], grad_fn=<IndexBackward0>)\n",
      "torch.Size([1, 27])\n"
     ]
    }
   ],
   "source": [
    "context = [0] * block_size\n",
    "print(context)\n",
    "print(C[torch.tensor([context])])\n",
    "\n",
    "emb = C[torch.tensor([context])] # (1,block_size,d)\n",
    "h = torch.tanh(emb.view(1, -1) @ W1 + b1)\n",
    "logits = h @ W2 + b2\n",
    "print(logits.shape)"
   ]
  },
  {
   "cell_type": "code",
   "execution_count": 207,
   "id": "ef272bfc-4415-4c3e-932e-9b5c82231b5e",
   "metadata": {},
   "outputs": [
    {
     "name": "stdout",
     "output_type": "stream",
     "text": [
      "carmah.\n",
      "ami.\n",
      "havi.\n",
      "kimrix.\n",
      "thty.\n",
      "halaysie.\n",
      "rahnee.\n",
      "delly.\n",
      "chiaqui.\n",
      "nellara.\n",
      "chaiiv.\n",
      "kaleigh.\n",
      "ham.\n",
      "joce.\n",
      "quintis.\n",
      "lilea.\n",
      "jadil.\n",
      "wazeroudearynix.\n",
      "kaen.\n",
      "dura.\n"
     ]
    }
   ],
   "source": [
    "# sample from the model\n",
    "g = torch.Generator().manual_seed(2147483647 + 10)\n",
    "\n",
    "\n",
    "\n",
    "for _ in range(20):\n",
    "    \n",
    "    out = []\n",
    "    context = [0] * block_size # initialize with all ...\n",
    "    while True:\n",
    "      emb = C[torch.tensor([context])] # (1,block_size,d)\n",
    "      h = torch.tanh(emb.view(1, -1) @ W1 + b1)\n",
    "      logits = h @ W2 + b2\n",
    "    \n",
    "      probs = F.softmax(logits, dim=1)\n",
    "      ix = torch.multinomial(probs, num_samples=1, generator=g).item()\n",
    "      context = context[1:] + [ix]\n",
    "      out.append(ix)\n",
    "      if ix == 0:\n",
    "        break\n",
    "    \n",
    "    print(''.join(itos[i] for i in out))"
   ]
  },
  {
   "cell_type": "code",
   "execution_count": null,
   "id": "f97ae827-9a09-483b-8e3f-d1dbc913a0b4",
   "metadata": {},
   "outputs": [],
   "source": []
  }
 ],
 "metadata": {
  "kernelspec": {
   "display_name": "Python 3 (ipykernel)",
   "language": "python",
   "name": "python3"
  },
  "language_info": {
   "codemirror_mode": {
    "name": "ipython",
    "version": 3
   },
   "file_extension": ".py",
   "mimetype": "text/x-python",
   "name": "python",
   "nbconvert_exporter": "python",
   "pygments_lexer": "ipython3",
   "version": "3.10.13"
  }
 },
 "nbformat": 4,
 "nbformat_minor": 5
}
